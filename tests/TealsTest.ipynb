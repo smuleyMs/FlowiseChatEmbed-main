{
 "cells": [
  {
   "cell_type": "code",
   "execution_count": 2,
   "metadata": {},
   "outputs": [],
   "source": [
    "from tqdm import tqdm\n",
    "import pandas as pd\n",
    "import requests\n",
    "import json\n",
    "import time\n",
    "import os\n",
    "import re"
   ]
  },
  {
   "cell_type": "markdown",
   "metadata": {},
   "source": [
    "### Endpoint Configuration "
   ]
  },
  {
   "cell_type": "code",
   "execution_count": null,
   "metadata": {},
   "outputs": [],
   "source": [
    "# Define the Azure API URL and key\n",
    "azure_api_url = 'https://openai-resource-chabot.openai.azure.com/openai/deployments/gpt-4/chat/completions?api-version=2023-12-01-preview'\n",
    "azure_api_key = os.environ['openai-resource-chabot-key']\n",
    "# Define the URL for your bot\n",
    "bot_url = 'http://52.185.31.224:3000/api/v1/prediction/2728b5f4-4749-470f-ac25-dd249df879bf'\n"
   ]
  },
  {
   "cell_type": "markdown",
   "metadata": {},
   "source": [
    "### Load test data"
   ]
  },
  {
   "cell_type": "code",
   "execution_count": 3,
   "metadata": {},
   "outputs": [
    {
     "data": {
      "text/html": [
       "<div>\n",
       "<style scoped>\n",
       "    .dataframe tbody tr th:only-of-type {\n",
       "        vertical-align: middle;\n",
       "    }\n",
       "\n",
       "    .dataframe tbody tr th {\n",
       "        vertical-align: top;\n",
       "    }\n",
       "\n",
       "    .dataframe thead th {\n",
       "        text-align: right;\n",
       "    }\n",
       "</style>\n",
       "<table border=\"1\" class=\"dataframe\">\n",
       "  <thead>\n",
       "    <tr style=\"text-align: right;\">\n",
       "      <th></th>\n",
       "      <th>Question</th>\n",
       "      <th>Ground_Truth</th>\n",
       "    </tr>\n",
       "  </thead>\n",
       "  <tbody>\n",
       "    <tr>\n",
       "      <th>0</th>\n",
       "      <td>Is TEALS a Microsoft program?</td>\n",
       "      <td>Yes. The TEALS (Technology Education and Learn...</td>\n",
       "    </tr>\n",
       "    <tr>\n",
       "      <th>1</th>\n",
       "      <td>Who can volunteer for TEALS?</td>\n",
       "      <td>Anyone who resides in the US with a computer s...</td>\n",
       "    </tr>\n",
       "    <tr>\n",
       "      <th>2</th>\n",
       "      <td>Do I need a teaching certification or to take ...</td>\n",
       "      <td>No. We provide teaching support through our re...</td>\n",
       "    </tr>\n",
       "    <tr>\n",
       "      <th>3</th>\n",
       "      <td>Do I have to work for Microsoft to volunteer?</td>\n",
       "      <td>No. TEALS is designed for everyone. If you hav...</td>\n",
       "    </tr>\n",
       "    <tr>\n",
       "      <th>4</th>\n",
       "      <td>How will Covid-19 affect my volunteer experience?</td>\n",
       "      <td>Schools are still being affected by the Covid-...</td>\n",
       "    </tr>\n",
       "    <tr>\n",
       "      <th>5</th>\n",
       "      <td>Will I get reimbursed for expenses related to ...</td>\n",
       "      <td>The TEALS Program does not reimburse volunteer...</td>\n",
       "    </tr>\n",
       "    <tr>\n",
       "      <th>6</th>\n",
       "      <td>How does TEALS work?</td>\n",
       "      <td>TEALS (Technology Education and Learning Suppo...</td>\n",
       "    </tr>\n",
       "    <tr>\n",
       "      <th>7</th>\n",
       "      <td>What is the process for becoming a TEALS School?</td>\n",
       "      <td>Watch a pre-recorded TEALS info session (from ...</td>\n",
       "    </tr>\n",
       "    <tr>\n",
       "      <th>8</th>\n",
       "      <td>Where does TEALS operate?</td>\n",
       "      <td>TEALS partners with schools across the US. Vis...</td>\n",
       "    </tr>\n",
       "    <tr>\n",
       "      <th>9</th>\n",
       "      <td>What kind of schools does TEALS partner with?</td>\n",
       "      <td>TEALS works with many different types of high ...</td>\n",
       "    </tr>\n",
       "  </tbody>\n",
       "</table>\n",
       "</div>"
      ],
      "text/plain": [
       "                                            Question  \\\n",
       "0                      Is TEALS a Microsoft program?   \n",
       "1                       Who can volunteer for TEALS?   \n",
       "2  Do I need a teaching certification or to take ...   \n",
       "3      Do I have to work for Microsoft to volunteer?   \n",
       "4  How will Covid-19 affect my volunteer experience?   \n",
       "5  Will I get reimbursed for expenses related to ...   \n",
       "6                               How does TEALS work?   \n",
       "7   What is the process for becoming a TEALS School?   \n",
       "8                          Where does TEALS operate?   \n",
       "9      What kind of schools does TEALS partner with?   \n",
       "\n",
       "                                        Ground_Truth  \n",
       "0  Yes. The TEALS (Technology Education and Learn...  \n",
       "1  Anyone who resides in the US with a computer s...  \n",
       "2  No. We provide teaching support through our re...  \n",
       "3  No. TEALS is designed for everyone. If you hav...  \n",
       "4  Schools are still being affected by the Covid-...  \n",
       "5  The TEALS Program does not reimburse volunteer...  \n",
       "6  TEALS (Technology Education and Learning Suppo...  \n",
       "7  Watch a pre-recorded TEALS info session (from ...  \n",
       "8  TEALS partners with schools across the US. Vis...  \n",
       "9  TEALS works with many different types of high ...  "
      ]
     },
     "execution_count": 3,
     "metadata": {},
     "output_type": "execute_result"
    }
   ],
   "source": [
    "\n",
    "# # Load Test data\n",
    "test_data = pd.read_excel('TestData.xlsx', sheet_name='TEALS Questions')[['Question','Ground_Truth']]\n",
    "test_data[:10]"
   ]
  },
  {
   "cell_type": "markdown",
   "metadata": {},
   "source": [
    "### Generate bot responses for test questions"
   ]
  },
  {
   "cell_type": "code",
   "execution_count": 56,
   "metadata": {},
   "outputs": [
    {
     "name": "stderr",
     "output_type": "stream",
     "text": [
      "100%|██████████| 21/21 [01:12<00:00,  3.46s/it]\n"
     ]
    }
   ],
   "source": [
    "results_data = pd.DataFrame(columns=['Question','Ground_Truth','Response', 'Source_Documents'])\n",
    "\n",
    "for index, row in tqdm(test_data.iterrows(), total=test_data.shape[0]):\n",
    "    try:\n",
    "        # Create the data dictionary\n",
    "        data = {\n",
    "            'question': row['Question']\n",
    "        }\n",
    "\n",
    "        # Make the POST request\n",
    "        response = requests.post(bot_url, json=data)\n",
    "\n",
    "        # Parse response\n",
    "        answer = response.json()['text']\n",
    "        sources = response.json()['sourceDocuments']\n",
    "        sources = [item['pageContent'] for item in sources]\n",
    "        \n",
    "        # Add items to results dataframe\n",
    "        results_data.loc[index] = [row['Question'], row['Ground_Truth'], answer, sources]\n",
    "    except Exception as e:\n",
    "        print(e)\n",
    "        print('Row' + index + ':' + row['Question'])\n",
    "        print(answer)\n",
    "        break\n",
    "results_data.to_csv('Results/responses.csv', index=False)\n"
   ]
  },
  {
   "cell_type": "markdown",
   "metadata": {},
   "source": [
    "### Calculate ratings for all metrics"
   ]
  },
  {
   "cell_type": "code",
   "execution_count": 62,
   "metadata": {},
   "outputs": [
    {
     "name": "stderr",
     "output_type": "stream",
     "text": [
      "  0%|          | 0/21 [00:00<?, ?it/s]"
     ]
    },
    {
     "name": "stderr",
     "output_type": "stream",
     "text": [
      " 57%|█████▋    | 12/21 [00:53<00:46,  5.20s/it]"
     ]
    },
    {
     "name": "stdout",
     "output_type": "stream",
     "text": [
      "Rate Limit Error. Waiting 15 seconds. Retry attempt 1 / 5 for row 12\n"
     ]
    },
    {
     "name": "stderr",
     "output_type": "stream",
     "text": [
      "100%|██████████| 21/21 [01:56<00:00,  5.55s/it]\n",
      " 14%|█▍        | 3/21 [00:04<00:30,  1.69s/it]"
     ]
    },
    {
     "name": "stdout",
     "output_type": "stream",
     "text": [
      "Rate Limit Error. Waiting 15 seconds. Retry attempt 1 / 5 for row 3\n"
     ]
    },
    {
     "name": "stderr",
     "output_type": "stream",
     "text": [
      " 29%|██▊       | 6/21 [00:27<01:09,  4.61s/it]"
     ]
    },
    {
     "name": "stdout",
     "output_type": "stream",
     "text": [
      "Rate Limit Error. Waiting 15 seconds. Retry attempt 1 / 5 for row 6\n"
     ]
    },
    {
     "name": "stderr",
     "output_type": "stream",
     "text": [
      " 52%|█████▏    | 11/21 [00:52<00:35,  3.52s/it]"
     ]
    },
    {
     "name": "stdout",
     "output_type": "stream",
     "text": [
      "Rate Limit Error. Waiting 15 seconds. Retry attempt 1 / 5 for row 11\n"
     ]
    },
    {
     "name": "stderr",
     "output_type": "stream",
     "text": [
      " 71%|███████▏  | 15/21 [01:14<00:22,  3.76s/it]"
     ]
    },
    {
     "name": "stdout",
     "output_type": "stream",
     "text": [
      "Rate Limit Error. Waiting 15 seconds. Retry attempt 1 / 5 for row 15\n"
     ]
    },
    {
     "name": "stderr",
     "output_type": "stream",
     "text": [
      " 86%|████████▌ | 18/21 [01:37<00:15,  5.01s/it]"
     ]
    },
    {
     "name": "stdout",
     "output_type": "stream",
     "text": [
      "Rate Limit Error. Waiting 15 seconds. Retry attempt 1 / 5 for row 18\n"
     ]
    },
    {
     "name": "stderr",
     "output_type": "stream",
     "text": [
      "100%|██████████| 21/21 [01:59<00:00,  5.71s/it]\n",
      " 29%|██▊       | 6/21 [00:30<01:34,  6.27s/it]"
     ]
    },
    {
     "name": "stdout",
     "output_type": "stream",
     "text": [
      "Rate Limit Error. Waiting 15 seconds. Retry attempt 1 / 5 for row 6\n"
     ]
    },
    {
     "name": "stderr",
     "output_type": "stream",
     "text": [
      " 43%|████▎     | 9/21 [00:53<01:11,  5.93s/it]"
     ]
    },
    {
     "name": "stdout",
     "output_type": "stream",
     "text": [
      "Rate Limit Error. Waiting 15 seconds. Retry attempt 1 / 5 for row 9\n"
     ]
    },
    {
     "name": "stderr",
     "output_type": "stream",
     "text": [
      "100%|██████████| 21/21 [02:19<00:00,  6.65s/it]\n"
     ]
    }
   ],
   "source": [
    "# list of metrics to use\n",
    "metrics = [\"Relevance\", \"Groundedness\", \"Retrieval\"]\n",
    "# metrics = [\"Relevance\"]\n",
    "for metric_name in metrics:\n",
    "    # Read the prompt for the metric\n",
    "    with open(f'metrics/{metric_name}.txt', 'r') as file:\n",
    "        metric_prompt = file.read()\n",
    "\n",
    "    \n",
    "    # Iterate over each row of the DataFrame\n",
    "    for index, row in tqdm(results_data.iterrows(), total=results_data.shape[0]):\n",
    "        # Try to rate each row, set as None if error\n",
    "        try:\n",
    "            if metric_name == \"Relevance\":\n",
    "                request_data = f\"Question: '{row['Question']}'\\n\\nGround Truth Answer: '{row['Ground_Truth']}'\\n\\nGenerated Answer: '{row['Response']}'\"\n",
    "            else:\n",
    "                request_data = f\"Question: '{row['Question']}'\\n\\nGenerated Answer: '{row['Response']}'\\n\\nSource Documents: {row['Source_Documents']}\"\n",
    "            # Prepare the body of the request\n",
    "            body = {\n",
    "                \"messages\": [\n",
    "                    {\n",
    "                        \"role\": \"user\",\n",
    "                        \"content\": f\"{metric_prompt}\"\n",
    "                    },\n",
    "                    {\n",
    "                        \"role\": \"user\",\n",
    "                        \"content\":  f\"{request_data}\"\n",
    "                    },\n",
    "                    {\n",
    "                        \"role\": \"user\",\n",
    "                        \"content\":  f\"Rate the {metric_name} using the instructions previously provided. Remember that the rating produced must only be 1 or 2 or 3 or 4 or 5.\"\n",
    "                    }\n",
    "                ],\n",
    "                \"temperature\": 0,\n",
    "                \"top_p\": 1,\n",
    "                \"max_tokens\": 800,\n",
    "                \"stop\": None,\n",
    "                \"stream\": False\n",
    "            }\n",
    "\n",
    "            # Set the headers of the request\n",
    "            headers = {\n",
    "                \"API-Key\": azure_api_key, \n",
    "                \"Content-Type\": \"application/json\"\n",
    "            }\n",
    "\n",
    "            # Send POST request to the OpenAI API\n",
    "\n",
    "            # Define the timeout duration and the maximum number of retries\n",
    "            timeout_duration = 15  # 5 seconds\n",
    "            max_retries = 5  # Retry up to 5 times\n",
    "\n",
    "            # Initialize the retry count\n",
    "            retry_count = 0\n",
    "\n",
    "            while retry_count < max_retries:                \n",
    "                # Send POST request to the OpenAI API\n",
    "                response = requests.post(azure_api_url, data=json.dumps(body), headers=headers)\n",
    "\n",
    "                if response.status_code == 429:\n",
    "                    # If a timeout error occurred, wait for the timeout duration and then retry\n",
    "                    retry_count += 1\n",
    "                    print('Rate Limit Error. Waiting', timeout_duration, 'seconds. Retry attempt', retry_count,'/', max_retries, 'for row', index)\n",
    "                    time.sleep(timeout_duration)\n",
    "                    continue\n",
    "                else:\n",
    "                    # Parse the response to get the rating value\n",
    "                    rating = re.search('[1-5]', response.json()[\"choices\"][0][\"message\"][\"content\"]).group(0)\n",
    "                    if rating:\n",
    "                        results_data.loc[index, metric_name] = int(rating)\n",
    "                        break\n",
    "                    else:\n",
    "                        retry_count += 1\n",
    "                        print('Error: Could not find rating. Retry attempt', retry_count,'/', max_retries, 'for row', index)\n",
    "                        continue\n",
    "        except Exception as e:\n",
    "            display(e)\n",
    "            # Set the rating to None if there was an error\n",
    "            display(f\"Error with row {index}\")\n",
    "            display(response.json())\n",
    "            results_data.loc[index, metric_name] = None\n",
    "\n",
    "        # save results\n",
    "        results_data.to_csv(f'Results/results.csv', mode='w', header=True, index=False)"
   ]
  },
  {
   "cell_type": "code",
   "execution_count": 63,
   "metadata": {},
   "outputs": [
    {
     "name": "stdout",
     "output_type": "stream",
     "text": [
      "Average Relevance: 3.761904761904762\n",
      "Average Groundedness: 4.285714285714286\n",
      "Average Retrieval: 3.238095238095238\n"
     ]
    }
   ],
   "source": [
    "# Load Results data\n",
    "final_data = pd.read_csv('Results/results.csv')\n",
    "# Calculate the average\n",
    "for metric in metrics:\n",
    "    print(f\"Average {metric}: {final_data[metric].mean()}\")"
   ]
  }
 ],
 "metadata": {
  "kernelspec": {
   "display_name": "Python 3",
   "language": "python",
   "name": "python3"
  },
  "language_info": {
   "codemirror_mode": {
    "name": "ipython",
    "version": 3
   },
   "file_extension": ".py",
   "mimetype": "text/x-python",
   "name": "python",
   "nbconvert_exporter": "python",
   "pygments_lexer": "ipython3",
   "version": "3.11.6"
  }
 },
 "nbformat": 4,
 "nbformat_minor": 2
}
