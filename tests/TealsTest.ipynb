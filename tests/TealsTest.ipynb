{
 "cells": [
  {
   "cell_type": "code",
   "execution_count": 1,
   "metadata": {},
   "outputs": [],
   "source": [
    "from tqdm import tqdm\n",
    "import pandas as pd\n",
    "import requests\n",
    "import json\n",
    "import time\n",
    "import os\n",
    "import re"
   ]
  },
  {
   "cell_type": "markdown",
   "metadata": {},
   "source": [
    "### Endpoint Configuration "
   ]
  },
  {
   "cell_type": "code",
   "execution_count": 2,
   "metadata": {},
   "outputs": [],
   "source": [
    "# Define the Azure API URL and key\n",
    "azure_api_url = 'https://openai-resource-chabot.openai.azure.com/openai/deployments/gpt-4/chat/completions?api-version=2023-12-01-preview'\n",
    "azure_api_key = os.environ['openai-resource-chabot-key']\n",
    "# Define the URL for your bot\n",
    "bot_url = 'http://52.185.31.224:3000/api/v1/prediction/2728b5f4-4749-470f-ac25-dd249df879bf'\n"
   ]
  },
  {
   "cell_type": "markdown",
   "metadata": {},
   "source": [
    "### Load test data"
   ]
  },
  {
   "cell_type": "code",
   "execution_count": 3,
   "metadata": {},
   "outputs": [
    {
     "data": {
      "text/html": [
       "<div>\n",
       "<style scoped>\n",
       "    .dataframe tbody tr th:only-of-type {\n",
       "        vertical-align: middle;\n",
       "    }\n",
       "\n",
       "    .dataframe tbody tr th {\n",
       "        vertical-align: top;\n",
       "    }\n",
       "\n",
       "    .dataframe thead th {\n",
       "        text-align: right;\n",
       "    }\n",
       "</style>\n",
       "<table border=\"1\" class=\"dataframe\">\n",
       "  <thead>\n",
       "    <tr style=\"text-align: right;\">\n",
       "      <th></th>\n",
       "      <th>Question</th>\n",
       "      <th>Ground_Truth</th>\n",
       "    </tr>\n",
       "  </thead>\n",
       "  <tbody>\n",
       "    <tr>\n",
       "      <th>0</th>\n",
       "      <td>Is TEALS a Microsoft program?</td>\n",
       "      <td>Yes. The TEALS (Technology Education and Learn...</td>\n",
       "    </tr>\n",
       "    <tr>\n",
       "      <th>1</th>\n",
       "      <td>Who can volunteer for TEALS?</td>\n",
       "      <td>Anyone who resides in the US with a computer s...</td>\n",
       "    </tr>\n",
       "    <tr>\n",
       "      <th>2</th>\n",
       "      <td>Do I need a teaching certification or to take ...</td>\n",
       "      <td>No. We provide teaching support through our re...</td>\n",
       "    </tr>\n",
       "    <tr>\n",
       "      <th>3</th>\n",
       "      <td>Do I have to work for Microsoft to volunteer?</td>\n",
       "      <td>No. TEALS is designed for everyone. If you hav...</td>\n",
       "    </tr>\n",
       "    <tr>\n",
       "      <th>4</th>\n",
       "      <td>How will Covid-19 affect my volunteer experience?</td>\n",
       "      <td>Schools are still being affected by the Covid-...</td>\n",
       "    </tr>\n",
       "    <tr>\n",
       "      <th>5</th>\n",
       "      <td>Will I get reimbursed for expenses related to ...</td>\n",
       "      <td>The TEALS Program does not reimburse volunteer...</td>\n",
       "    </tr>\n",
       "    <tr>\n",
       "      <th>6</th>\n",
       "      <td>How does TEALS work?</td>\n",
       "      <td>TEALS (Technology Education and Learning Suppo...</td>\n",
       "    </tr>\n",
       "    <tr>\n",
       "      <th>7</th>\n",
       "      <td>What is the process for becoming a TEALS School?</td>\n",
       "      <td>Watch a pre-recorded TEALS info session (from ...</td>\n",
       "    </tr>\n",
       "    <tr>\n",
       "      <th>8</th>\n",
       "      <td>Where does TEALS operate?</td>\n",
       "      <td>TEALS partners with schools across the US. Vis...</td>\n",
       "    </tr>\n",
       "    <tr>\n",
       "      <th>9</th>\n",
       "      <td>What kind of schools does TEALS partner with?</td>\n",
       "      <td>TEALS works with many different types of high ...</td>\n",
       "    </tr>\n",
       "  </tbody>\n",
       "</table>\n",
       "</div>"
      ],
      "text/plain": [
       "                                            Question  \\\n",
       "0                      Is TEALS a Microsoft program?   \n",
       "1                       Who can volunteer for TEALS?   \n",
       "2  Do I need a teaching certification or to take ...   \n",
       "3      Do I have to work for Microsoft to volunteer?   \n",
       "4  How will Covid-19 affect my volunteer experience?   \n",
       "5  Will I get reimbursed for expenses related to ...   \n",
       "6                               How does TEALS work?   \n",
       "7   What is the process for becoming a TEALS School?   \n",
       "8                          Where does TEALS operate?   \n",
       "9      What kind of schools does TEALS partner with?   \n",
       "\n",
       "                                        Ground_Truth  \n",
       "0  Yes. The TEALS (Technology Education and Learn...  \n",
       "1  Anyone who resides in the US with a computer s...  \n",
       "2  No. We provide teaching support through our re...  \n",
       "3  No. TEALS is designed for everyone. If you hav...  \n",
       "4  Schools are still being affected by the Covid-...  \n",
       "5  The TEALS Program does not reimburse volunteer...  \n",
       "6  TEALS (Technology Education and Learning Suppo...  \n",
       "7  Watch a pre-recorded TEALS info session (from ...  \n",
       "8  TEALS partners with schools across the US. Vis...  \n",
       "9  TEALS works with many different types of high ...  "
      ]
     },
     "execution_count": 3,
     "metadata": {},
     "output_type": "execute_result"
    }
   ],
   "source": [
    "\n",
    "# # Load Test data\n",
    "test_data = pd.read_excel('TestData.xlsx', sheet_name='TEALS Questions')[['Question','Ground_Truth']]\n",
    "test_data[:10]"
   ]
  },
  {
   "cell_type": "markdown",
   "metadata": {},
   "source": [
    "### Generate bot responses for test questions"
   ]
  },
  {
   "cell_type": "code",
   "execution_count": 4,
   "metadata": {},
   "outputs": [
    {
     "name": "stderr",
     "output_type": "stream",
     "text": [
      "  0%|          | 0/52 [00:00<?, ?it/s]"
     ]
    },
    {
     "name": "stderr",
     "output_type": "stream",
     "text": [
      "100%|██████████| 52/52 [03:00<00:00,  3.46s/it]\n"
     ]
    }
   ],
   "source": [
    "results_data = pd.DataFrame(columns=['Question','Ground_Truth','Response', 'Source_Documents'])\n",
    "\n",
    "for index, row in tqdm(test_data.iterrows(), total=test_data.shape[0]):\n",
    "    try:\n",
    "        # Create the data dictionary\n",
    "        data = {\n",
    "            'question': row['Question']\n",
    "        }\n",
    "\n",
    "        # Make the POST request\n",
    "        response = requests.post(bot_url, json=data)\n",
    "\n",
    "        # Parse response\n",
    "        answer = response.json()['text']\n",
    "        sources = response.json()['sourceDocuments']\n",
    "        sources = [item['pageContent'] for item in sources]\n",
    "        \n",
    "        # Add items to results dataframe\n",
    "        results_data.loc[index] = [row['Question'], row['Ground_Truth'], answer, sources]\n",
    "    except Exception as e:\n",
    "        print(e)\n",
    "        print('Row' + index + ':' + row['Question'])\n",
    "        print(answer)\n",
    "        break\n",
    "results_data.to_csv('Results/responses.csv', index=False)\n"
   ]
  },
  {
   "cell_type": "markdown",
   "metadata": {},
   "source": [
    "### Calculate ratings for all metrics"
   ]
  },
  {
   "cell_type": "code",
   "execution_count": 26,
   "metadata": {},
   "outputs": [
    {
     "name": "stderr",
     "output_type": "stream",
     "text": [
      " 23%|██▎       | 12/52 [00:51<02:44,  4.11s/it]"
     ]
    },
    {
     "name": "stdout",
     "output_type": "stream",
     "text": [
      "Rate Limit Error. Waiting 15 seconds. Retry attempt 1 / 5 for row 12\n"
     ]
    },
    {
     "name": "stderr",
     "output_type": "stream",
     "text": [
      " 46%|████▌     | 24/52 [01:57<02:00,  4.32s/it]"
     ]
    },
    {
     "name": "stdout",
     "output_type": "stream",
     "text": [
      "Rate Limit Error. Waiting 15 seconds. Retry attempt 1 / 5 for row 24\n"
     ]
    },
    {
     "name": "stderr",
     "output_type": "stream",
     "text": [
      " 67%|██████▋   | 35/52 [02:53<00:59,  3.48s/it]"
     ]
    },
    {
     "name": "stdout",
     "output_type": "stream",
     "text": [
      "Rate Limit Error. Waiting 15 seconds. Retry attempt 1 / 5 for row 35\n"
     ]
    },
    {
     "name": "stderr",
     "output_type": "stream",
     "text": [
      " 69%|██████▉   | 36/52 [03:12<02:09,  8.11s/it]"
     ]
    },
    {
     "name": "stdout",
     "output_type": "stream",
     "text": [
      "Rate Limit Error. Waiting 15 seconds. Retry attempt 1 / 5 for row 36\n"
     ]
    },
    {
     "name": "stderr",
     "output_type": "stream",
     "text": [
      " 92%|█████████▏| 48/52 [04:17<00:14,  3.68s/it]"
     ]
    },
    {
     "name": "stdout",
     "output_type": "stream",
     "text": [
      "Rate Limit Error. Waiting 15 seconds. Retry attempt 1 / 5 for row 48\n"
     ]
    },
    {
     "name": "stderr",
     "output_type": "stream",
     "text": [
      " 98%|█████████▊| 51/52 [04:44<00:06,  6.12s/it]"
     ]
    },
    {
     "name": "stdout",
     "output_type": "stream",
     "text": [
      "Rate Limit Error. Waiting 15 seconds. Retry attempt 1 / 5 for row 51\n"
     ]
    },
    {
     "name": "stderr",
     "output_type": "stream",
     "text": [
      "100%|██████████| 52/52 [05:04<00:00,  5.86s/it]\n",
      " 15%|█▌        | 8/52 [00:13<01:15,  1.72s/it]"
     ]
    },
    {
     "name": "stdout",
     "output_type": "stream",
     "text": [
      "Rate Limit Error. Waiting 15 seconds. Retry attempt 1 / 5 for row 8\n"
     ]
    },
    {
     "name": "stderr",
     "output_type": "stream",
     "text": [
      " 17%|█▋        | 9/52 [00:31<04:46,  6.67s/it]"
     ]
    },
    {
     "name": "stdout",
     "output_type": "stream",
     "text": [
      "Rate Limit Error. Waiting 15 seconds. Retry attempt 1 / 5 for row 9\n"
     ]
    },
    {
     "name": "stderr",
     "output_type": "stream",
     "text": [
      " 21%|██        | 11/52 [00:50<05:06,  7.47s/it]"
     ]
    },
    {
     "name": "stdout",
     "output_type": "stream",
     "text": [
      "Rate Limit Error. Waiting 15 seconds. Retry attempt 1 / 5 for row 11\n"
     ]
    },
    {
     "name": "stderr",
     "output_type": "stream",
     "text": [
      " 38%|███▊      | 20/52 [01:21<01:12,  2.27s/it]"
     ]
    },
    {
     "name": "stdout",
     "output_type": "stream",
     "text": [
      "Rate Limit Error. Waiting 15 seconds. Retry attempt 1 / 5 for row 20\n"
     ]
    },
    {
     "name": "stderr",
     "output_type": "stream",
     "text": [
      " 40%|████      | 21/52 [01:39<03:32,  6.86s/it]"
     ]
    },
    {
     "name": "stdout",
     "output_type": "stream",
     "text": [
      "Rate Limit Error. Waiting 15 seconds. Retry attempt 1 / 5 for row 21\n"
     ]
    },
    {
     "name": "stderr",
     "output_type": "stream",
     "text": [
      " 44%|████▍     | 23/52 [01:59<03:44,  7.75s/it]"
     ]
    },
    {
     "name": "stdout",
     "output_type": "stream",
     "text": [
      "Rate Limit Error. Waiting 15 seconds. Retry attempt 1 / 5 for row 23\n"
     ]
    },
    {
     "name": "stderr",
     "output_type": "stream",
     "text": [
      " 62%|██████▏   | 32/52 [02:35<00:49,  2.46s/it]"
     ]
    },
    {
     "name": "stdout",
     "output_type": "stream",
     "text": [
      "Rate Limit Error. Waiting 15 seconds. Retry attempt 1 / 5 for row 32\n"
     ]
    },
    {
     "name": "stderr",
     "output_type": "stream",
     "text": [
      " 67%|██████▋   | 35/52 [03:02<01:28,  5.18s/it]"
     ]
    },
    {
     "name": "stdout",
     "output_type": "stream",
     "text": [
      "Rate Limit Error. Waiting 15 seconds. Retry attempt 1 / 5 for row 35\n"
     ]
    },
    {
     "name": "stderr",
     "output_type": "stream",
     "text": [
      " 77%|███████▋  | 40/52 [03:28<00:44,  3.72s/it]"
     ]
    },
    {
     "name": "stdout",
     "output_type": "stream",
     "text": [
      "Rate Limit Error. Waiting 15 seconds. Retry attempt 1 / 5 for row 40\n"
     ]
    },
    {
     "name": "stderr",
     "output_type": "stream",
     "text": [
      " 90%|█████████ | 47/52 [04:06<00:17,  3.42s/it]"
     ]
    },
    {
     "name": "stdout",
     "output_type": "stream",
     "text": [
      "Rate Limit Error. Waiting 15 seconds. Retry attempt 1 / 5 for row 47\n"
     ]
    },
    {
     "name": "stderr",
     "output_type": "stream",
     "text": [
      "100%|██████████| 52/52 [04:35<00:00,  5.30s/it]\n",
      "  0%|          | 0/52 [00:00<?, ?it/s]"
     ]
    },
    {
     "name": "stdout",
     "output_type": "stream",
     "text": [
      "Rate Limit Error. Waiting 15 seconds. Retry attempt 1 / 5 for row 0\n"
     ]
    },
    {
     "name": "stderr",
     "output_type": "stream",
     "text": [
      "  6%|▌         | 3/52 [00:20<04:12,  5.15s/it]"
     ]
    },
    {
     "name": "stdout",
     "output_type": "stream",
     "text": [
      "Rate Limit Error. Waiting 15 seconds. Retry attempt 1 / 5 for row 3\n"
     ]
    },
    {
     "name": "stderr",
     "output_type": "stream",
     "text": [
      " 13%|█▎        | 7/52 [00:43<02:59,  3.99s/it]"
     ]
    },
    {
     "name": "stdout",
     "output_type": "stream",
     "text": [
      "Rate Limit Error. Waiting 15 seconds. Retry attempt 1 / 5 for row 7\n"
     ]
    },
    {
     "name": "stderr",
     "output_type": "stream",
     "text": [
      " 23%|██▎       | 12/52 [01:07<02:07,  3.19s/it]"
     ]
    },
    {
     "name": "stdout",
     "output_type": "stream",
     "text": [
      "Rate Limit Error. Waiting 15 seconds. Retry attempt 1 / 5 for row 12\n"
     ]
    },
    {
     "name": "stderr",
     "output_type": "stream",
     "text": [
      " 29%|██▉       | 15/52 [01:28<02:49,  4.57s/it]"
     ]
    },
    {
     "name": "stdout",
     "output_type": "stream",
     "text": [
      "Rate Limit Error. Waiting 15 seconds. Retry attempt 1 / 5 for row 15\n"
     ]
    },
    {
     "name": "stderr",
     "output_type": "stream",
     "text": [
      " 37%|███▋      | 19/52 [01:51<02:13,  4.05s/it]"
     ]
    },
    {
     "name": "stdout",
     "output_type": "stream",
     "text": [
      "Rate Limit Error. Waiting 15 seconds. Retry attempt 1 / 5 for row 19\n"
     ]
    },
    {
     "name": "stderr",
     "output_type": "stream",
     "text": [
      " 46%|████▌     | 24/52 [02:15<01:29,  3.20s/it]"
     ]
    },
    {
     "name": "stdout",
     "output_type": "stream",
     "text": [
      "Rate Limit Error. Waiting 15 seconds. Retry attempt 1 / 5 for row 24\n"
     ]
    },
    {
     "name": "stderr",
     "output_type": "stream",
     "text": [
      " 52%|█████▏    | 27/52 [02:37<01:57,  4.70s/it]"
     ]
    },
    {
     "name": "stdout",
     "output_type": "stream",
     "text": [
      "Rate Limit Error. Waiting 15 seconds. Retry attempt 1 / 5 for row 27\n"
     ]
    },
    {
     "name": "stderr",
     "output_type": "stream",
     "text": [
      " 60%|█████▉    | 31/52 [03:00<01:25,  4.05s/it]"
     ]
    },
    {
     "name": "stdout",
     "output_type": "stream",
     "text": [
      "Rate Limit Error. Waiting 15 seconds. Retry attempt 1 / 5 for row 31\n"
     ]
    },
    {
     "name": "stderr",
     "output_type": "stream",
     "text": [
      " 69%|██████▉   | 36/52 [03:25<00:53,  3.33s/it]"
     ]
    },
    {
     "name": "stdout",
     "output_type": "stream",
     "text": [
      "Rate Limit Error. Waiting 15 seconds. Retry attempt 1 / 5 for row 36\n"
     ]
    },
    {
     "name": "stderr",
     "output_type": "stream",
     "text": [
      " 75%|███████▌  | 39/52 [03:46<01:00,  4.64s/it]"
     ]
    },
    {
     "name": "stdout",
     "output_type": "stream",
     "text": [
      "Rate Limit Error. Waiting 15 seconds. Retry attempt 1 / 5 for row 39\n"
     ]
    },
    {
     "name": "stderr",
     "output_type": "stream",
     "text": [
      " 83%|████████▎ | 43/52 [04:09<00:37,  4.13s/it]"
     ]
    },
    {
     "name": "stdout",
     "output_type": "stream",
     "text": [
      "Rate Limit Error. Waiting 15 seconds. Retry attempt 1 / 5 for row 43\n"
     ]
    },
    {
     "name": "stderr",
     "output_type": "stream",
     "text": [
      " 92%|█████████▏| 48/52 [04:35<00:13,  3.46s/it]"
     ]
    },
    {
     "name": "stdout",
     "output_type": "stream",
     "text": [
      "Rate Limit Error. Waiting 15 seconds. Retry attempt 1 / 5 for row 48\n"
     ]
    },
    {
     "name": "stderr",
     "output_type": "stream",
     "text": [
      " 98%|█████████▊| 51/52 [04:56<00:04,  4.80s/it]"
     ]
    },
    {
     "name": "stdout",
     "output_type": "stream",
     "text": [
      "Rate Limit Error. Waiting 15 seconds. Retry attempt 1 / 5 for row 51\n"
     ]
    },
    {
     "name": "stderr",
     "output_type": "stream",
     "text": [
      "100%|██████████| 52/52 [05:14<00:00,  6.05s/it]\n",
      " 21%|██        | 11/52 [00:52<02:58,  4.35s/it]"
     ]
    },
    {
     "name": "stdout",
     "output_type": "stream",
     "text": [
      "Rate Limit Error. Waiting 15 seconds. Retry attempt 1 / 5 for row 11\n"
     ]
    },
    {
     "name": "stderr",
     "output_type": "stream",
     "text": [
      " 44%|████▍     | 23/52 [02:03<02:41,  5.56s/it]"
     ]
    },
    {
     "name": "stdout",
     "output_type": "stream",
     "text": [
      "Rate Limit Error. Waiting 15 seconds. Retry attempt 1 / 5 for row 23\n"
     ]
    },
    {
     "name": "stderr",
     "output_type": "stream",
     "text": [
      " 67%|██████▋   | 35/52 [03:18<01:09,  4.11s/it]"
     ]
    },
    {
     "name": "stdout",
     "output_type": "stream",
     "text": [
      "Rate Limit Error. Waiting 15 seconds. Retry attempt 1 / 5 for row 35\n"
     ]
    },
    {
     "name": "stderr",
     "output_type": "stream",
     "text": [
      "100%|██████████| 52/52 [05:12<00:00,  6.01s/it]\n"
     ]
    }
   ],
   "source": [
    "# list of metrics to use\n",
    "metrics = [\"Relevance\", \"Groundedness\", \"Retrieval\", \"RAI\"]\n",
    "# metrics = [\"Retrieval\"]\n",
    "for metric_name in metrics:\n",
    "    # Read the prompt for the metric\n",
    "    with open(f'metrics/{metric_name}.txt', 'r') as file:\n",
    "        metric_prompt = file.read()\n",
    "\n",
    "    \n",
    "    # Iterate over each row of the DataFrame\n",
    "    for index, row in tqdm(results_data.iterrows(), total=results_data.shape[0]):\n",
    "        # Try to rate each row, set as None if error\n",
    "        try:\n",
    "            if metric_name == \"Relevance\":\n",
    "                request_data = f\"Question: '{row['Question']}'\\n\\nGround Truth Answer: '{row['Ground_Truth']}'\\n\\nGenerated Answer: '{row['Response']}'\"\n",
    "            elif metric_name == \"RAI\":\n",
    "                request_data = f\"Question: '{row['Question']}'\\n\\nGenerated Answer: '{row['Response']}\"\n",
    "            elif metric_name == \"Retrieval\":\n",
    "                request_data = f\"Question: '{row['Question']}'\\n\\nSource Documents: {row['Source_Documents']}\"\n",
    "            else:\n",
    "                request_data = f\"Question: '{row['Question']}'\\n\\nGenerated Answer: '{row['Response']}'\\n\\nSource Documents: {row['Source_Documents']}\"\n",
    "            # Prepare the body of the request\n",
    "            body = {\n",
    "                \"messages\": [\n",
    "                    {\n",
    "                        \"role\": \"user\",\n",
    "                        \"content\": f\"{metric_prompt}\"\n",
    "                    },\n",
    "                    {\n",
    "                        \"role\": \"user\",\n",
    "                        \"content\":  f\"{request_data}\"\n",
    "                    },\n",
    "                    {\n",
    "                        \"role\": \"user\",\n",
    "                        \"content\":  f\"Rate the {metric_name} using the instructions previously provided. Remember that the rating produced must only be 1 or 2 or 3 or 4 or 5.\"\n",
    "                    }\n",
    "                ],\n",
    "                \"temperature\": 0,\n",
    "                \"top_p\": 1,\n",
    "                \"max_tokens\": 800,\n",
    "                \"stop\": None,\n",
    "                \"stream\": False\n",
    "            }\n",
    "\n",
    "            # Set the headers of the request\n",
    "            headers = {\n",
    "                \"API-Key\": azure_api_key, \n",
    "                \"Content-Type\": \"application/json\"\n",
    "            }\n",
    "\n",
    "            # Send POST request to the OpenAI API\n",
    "\n",
    "            # Define the timeout duration and the maximum number of retries\n",
    "            timeout_duration = 15  # 5 seconds\n",
    "            max_retries = 5  # Retry up to 5 times\n",
    "\n",
    "            # Initialize the retry count\n",
    "            retry_count = 0\n",
    "\n",
    "            while retry_count < max_retries:                \n",
    "                # Send POST request to the OpenAI API\n",
    "                response = requests.post(azure_api_url, data=json.dumps(body), headers=headers)\n",
    "\n",
    "                if response.status_code == 429:\n",
    "                    # If a timeout error occurred, wait for the timeout duration and then retry\n",
    "                    retry_count += 1\n",
    "                    print('Rate Limit Error. Waiting', timeout_duration, 'seconds. Retry attempt', retry_count,'/', max_retries, 'for row', index)\n",
    "                    time.sleep(timeout_duration)\n",
    "                    continue\n",
    "                else:\n",
    "                    # Parse the response to get the rating value\n",
    "                    rating = re.search('[1-5]', response.json()[\"choices\"][0][\"message\"][\"content\"]).group(0)\n",
    "                    if rating:\n",
    "                        results_data.loc[index, metric_name] = int(rating)\n",
    "                        break\n",
    "                    else:\n",
    "                        retry_count += 1\n",
    "                        print('Error: Could not find rating. Retry attempt', retry_count,'/', max_retries, 'for row', index)\n",
    "                        continue\n",
    "        except Exception as e:\n",
    "            display(e)\n",
    "            # Set the rating to None if there was an error\n",
    "            display(f\"Error with row {index}\")\n",
    "            display(response.json())\n",
    "            results_data.loc[index, metric_name] = None\n",
    "\n",
    "        # save results\n",
    "        results_data.to_csv(f'Results/results.csv', mode='w', header=True, index=False)"
   ]
  },
  {
   "cell_type": "code",
   "execution_count": 27,
   "metadata": {},
   "outputs": [
    {
     "name": "stdout",
     "output_type": "stream",
     "text": [
      "Average Relevance: 4.134615384615385\n",
      "Average Groundedness: 4.75\n",
      "Average Retrieval: 4.538461538461538\n",
      "Average RAI: 4.346153846153846\n"
     ]
    }
   ],
   "source": [
    "# Load Results data\n",
    "final_data = pd.read_csv('Results/results.csv')\n",
    "# Calculate the average\n",
    "for metric in metrics:\n",
    "    print(f\"Average {metric}: {final_data[metric].mean()}\")"
   ]
  }
 ],
 "metadata": {
  "kernelspec": {
   "display_name": "Python 3",
   "language": "python",
   "name": "python3"
  },
  "language_info": {
   "codemirror_mode": {
    "name": "ipython",
    "version": 3
   },
   "file_extension": ".py",
   "mimetype": "text/x-python",
   "name": "python",
   "nbconvert_exporter": "python",
   "pygments_lexer": "ipython3",
   "version": "3.11.7"
  }
 },
 "nbformat": 4,
 "nbformat_minor": 2
}
